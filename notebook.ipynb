{
  "nbformat": 4,
  "nbformat_minor": 0,
  "metadata": {
    "colab": {
      "provenance": [],
      "toc_visible": true,
      "authorship_tag": "ABX9TyMiK5gdG95r1E9SX4271HOu",
      "include_colab_link": true
    },
    "kernelspec": {
      "name": "python3",
      "display_name": "Python 3"
    },
    "language_info": {
      "name": "python"
    },
    "gpuClass": "standard"
  },
  "cells": [
    {
      "cell_type": "markdown",
      "metadata": {
        "id": "view-in-github",
        "colab_type": "text"
      },
      "source": [
        "<a href=\"https://colab.research.google.com/github/RakePants/linkedin-based-letters/blob/main/notebook.ipynb\" target=\"_parent\"><img src=\"https://colab.research.google.com/assets/colab-badge.svg\" alt=\"Open In Colab\"/></a>"
      ]
    },
    {
      "cell_type": "markdown",
      "source": [
        "# Task 1. Artem Eremkin\n"
      ],
      "metadata": {
        "id": "Z3t2orZC2NOH"
      }
    },
    {
      "cell_type": "markdown",
      "source": [
        "Link to Github repository with documentation:\n",
        "https://github.com/RakePants/linkedin-based-letters"
      ],
      "metadata": {
        "id": "UtMvMUGgl_d1"
      }
    },
    {
      "cell_type": "markdown",
      "source": [
        "## Mounting Google drive"
      ],
      "metadata": {
        "id": "IcxqG8hf2UPX"
      }
    },
    {
      "cell_type": "code",
      "execution_count": null,
      "metadata": {
        "colab": {
          "base_uri": "https://localhost:8080/"
        },
        "id": "5r8ITAvo1zki",
        "outputId": "7bfbb814-36d4-4ef6-aee4-f735df62a05b"
      },
      "outputs": [
        {
          "output_type": "stream",
          "name": "stdout",
          "text": [
            "Mounted at /content/drive\n"
          ]
        }
      ],
      "source": [
        "from google.colab import drive\n",
        "drive.mount('/content/drive', force_remount=True)"
      ]
    },
    {
      "cell_type": "markdown",
      "source": [
        "## Scraping"
      ],
      "metadata": {
        "id": "9Zdwp43q2kl5"
      }
    },
    {
      "cell_type": "code",
      "source": [
        "import requests\n",
        "\n",
        "# proxyurl API setup\n",
        "api_endpoint = 'https://nubela.co/proxycurl/api/v2/linkedin'\n",
        "api_key = \n",
        "header_dic = {'Authorization': 'Bearer ' + api_key}"
      ],
      "metadata": {
        "id": "RN4h60bE2mOR"
      },
      "execution_count": null,
      "outputs": []
    },
    {
      "cell_type": "code",
      "source": [
        "import json\n",
        "import time\n",
        "\n",
        "# Preparing profile URLs\n",
        "linkedin_urls = ['https://www.linkedin.com/in/johnrmarty/', 'https://www.linkedin.com/in/andrew-shymanski/', \n",
        "                 'https://www.linkedin.com/in/lexfridman/', 'https://www.linkedin.com/in/artyom-eryomkin/?locale=en_US',\n",
        "                 'https://www.linkedin.com/in/andrej-karpathy-9a650716/']\n",
        "\n",
        "responses = []\n",
        "for idx, url in enumerate(linkedin_urls):\n",
        "\n",
        "    # Scraping for one profile\n",
        "    response = requests.get(api_endpoint,\n",
        "                        params= {\n",
        "                            'url': url,\n",
        "                            'fallback_to_cache': 'on-error',\n",
        "                            'use_cache': 'if-present',\n",
        "                            'skills': 'exclude',\n",
        "                            'inferred_salary': 'exclude',\n",
        "                            'personal_email': 'include',\n",
        "                            'personal_contact_number': 'exclude',\n",
        "                            'twitter_profile_id': 'exclude',\n",
        "                            'facebook_profile_id': 'exclude',\n",
        "                            'github_profile_id': 'exclude',\n",
        "                            'extra': 'exclude',\n",
        "                        },\n",
        "                        headers=header_dic)\n",
        "    \n",
        "    responses.append(response)\n",
        "    \n",
        "    # Saving responses to Google Drive in JSON format as a backup option if running out of API credits\n",
        "    with open(f'drive/MyDrive/work/task1/profile{idx}.json', 'w') as fp:\n",
        "        json.dump(response.json(), fp)\n",
        "    \n",
        "    time.sleep(40)  # Waiting for the API's cooldown"
      ],
      "metadata": {
        "id": "8WwD-XCD6Z3I"
      },
      "execution_count": null,
      "outputs": []
    },
    {
      "cell_type": "code",
      "source": [
        "users_info = []\n",
        "\n",
        "for response in responses:\n",
        "    users_info.append(json.loads(response.text))"
      ],
      "metadata": {
        "id": "MVJIdrpF-gL_"
      },
      "execution_count": null,
      "outputs": []
    },
    {
      "cell_type": "code",
      "source": [
        "# Loading the backup copies\n",
        "import json\n",
        "\n",
        "users_info = []\n",
        "\n",
        "for idx in range(5):\n",
        "    with open(f'drive/MyDrive/work/task1/profile{idx}.json') as fp:\n",
        "        users_info.append(json.load(fp))\n"
      ],
      "metadata": {
        "id": "oz7k7Davqug7"
      },
      "execution_count": null,
      "outputs": []
    },
    {
      "cell_type": "markdown",
      "source": [
        "## Working with ChatGPT-3.5"
      ],
      "metadata": {
        "id": "lb2NvSPTLnTU"
      }
    },
    {
      "cell_type": "code",
      "source": [
        "%%bash\n",
        "pip install openai"
      ],
      "metadata": {
        "colab": {
          "base_uri": "https://localhost:8080/"
        },
        "id": "YA_YRlyFNH8e",
        "outputId": "4f89c1d3-73e9-4916-b213-c4d40e6cef13"
      },
      "execution_count": null,
      "outputs": [
        {
          "output_type": "stream",
          "name": "stdout",
          "text": [
            "Looking in indexes: https://pypi.org/simple, https://us-python.pkg.dev/colab-wheels/public/simple/\n",
            "Requirement already satisfied: openai in /usr/local/lib/python3.9/dist-packages (0.27.4)\n",
            "Requirement already satisfied: tqdm in /usr/local/lib/python3.9/dist-packages (from openai) (4.65.0)\n",
            "Requirement already satisfied: requests>=2.20 in /usr/local/lib/python3.9/dist-packages (from openai) (2.27.1)\n",
            "Requirement already satisfied: aiohttp in /usr/local/lib/python3.9/dist-packages (from openai) (3.8.4)\n",
            "Requirement already satisfied: urllib3<1.27,>=1.21.1 in /usr/local/lib/python3.9/dist-packages (from requests>=2.20->openai) (1.26.15)\n",
            "Requirement already satisfied: charset-normalizer~=2.0.0 in /usr/local/lib/python3.9/dist-packages (from requests>=2.20->openai) (2.0.12)\n",
            "Requirement already satisfied: idna<4,>=2.5 in /usr/local/lib/python3.9/dist-packages (from requests>=2.20->openai) (3.4)\n",
            "Requirement already satisfied: certifi>=2017.4.17 in /usr/local/lib/python3.9/dist-packages (from requests>=2.20->openai) (2022.12.7)\n",
            "Requirement already satisfied: multidict<7.0,>=4.5 in /usr/local/lib/python3.9/dist-packages (from aiohttp->openai) (6.0.4)\n",
            "Requirement already satisfied: frozenlist>=1.1.1 in /usr/local/lib/python3.9/dist-packages (from aiohttp->openai) (1.3.3)\n",
            "Requirement already satisfied: aiosignal>=1.1.2 in /usr/local/lib/python3.9/dist-packages (from aiohttp->openai) (1.3.1)\n",
            "Requirement already satisfied: attrs>=17.3.0 in /usr/local/lib/python3.9/dist-packages (from aiohttp->openai) (22.2.0)\n",
            "Requirement already satisfied: async-timeout<5.0,>=4.0.0a3 in /usr/local/lib/python3.9/dist-packages (from aiohttp->openai) (4.0.2)\n",
            "Requirement already satisfied: yarl<2.0,>=1.0 in /usr/local/lib/python3.9/dist-packages (from aiohttp->openai) (1.8.2)\n"
          ]
        }
      ]
    },
    {
      "cell_type": "code",
      "source": [
        "import openai\n",
        "import os"
      ],
      "metadata": {
        "id": "Q7kZ23MANGIZ"
      },
      "execution_count": null,
      "outputs": []
    },
    {
      "cell_type": "code",
      "source": [
        "import datetime\n",
        "\n",
        "# Generating a letter for every user\n",
        "for user in users_info:\n",
        "\n",
        "    # Putting together the information\n",
        "    experiences = [f\"{experience['title']} in {experience['company']}\" for experience in user[\"experiences\"]]\n",
        "    try: \n",
        "        years_experience = datetime.date.today().year - user['experiences'][-1]['starts_at']['year']\n",
        "    except:\n",
        "        year_experience = 0\n",
        "\n",
        "    try: \n",
        "        email = user['personal_emails'][0]\n",
        "    except:\n",
        "        email = None\n",
        "\n",
        "    education = [f\"{education['degree_name']} from {education['school']}, described as {education['description']}\" for education in user[\"education\"]]\n",
        "\n",
        "    # Needed info\n",
        "    '''\n",
        "    print(user['full_name'])\n",
        "    print(email)\n",
        "    print(user['occupation'])\n",
        "    print(user[\"headline\"])\n",
        "    print(user['summary'])\n",
        "    print(years_experience)\n",
        "    print(education)\n",
        "    print(experiences)\n",
        "    '''\n",
        "\n",
        "    # Prompt for the model\n",
        "    content = f'''Given the provided LinkedIn information for a person, create a proposal email on behalf of the company HappyAI, which specializes in implementing AI into business processes to increase profits, based on video.\n",
        "    Here's the information:\n",
        "    \"Full name: {user['full_name']}. \n",
        "    Email: {email}.\n",
        "    Current occupation: {user['occupation']};\n",
        "    Profile's headline: {user[\"headline\"]}.\n",
        "    Person's profile summary: {user['summary']}.\n",
        "    Years of experience: {years_experience}.\n",
        "    Experiences: {experiences}.\n",
        "    Education: {education}.\"\n",
        "    Ignore null and blank contents and special characters in the provided information. If there's an email address in the provided information, put it before the letter in <> braces.\n",
        "    '''\n",
        "\n",
        "    print(f\"Prompt for {user['full_name']}:\")\n",
        "    print(content)\n",
        "    print('---------------------------------')\n",
        "    print()\n",
        "\n",
        "    # Generation\n",
        "    openai.api_key = ''\n",
        "    completion = openai.ChatCompletion.create(\n",
        "    model=\"gpt-3.5-turbo\",\n",
        "    messages=[\n",
        "        {\"role\": \"assistant\", \"content\": content}\n",
        "        ]\n",
        "    )\n",
        "    \n",
        "    print(f'The letter for {user[\"full_name\"]}:')\n",
        "    print(completion.choices[0].message)\n",
        "    print()\n",
        "    print('---------------------------------')\n",
        "    print()\n",
        "\n",
        "    time.sleep(30) # Waiting for the API's cooldown"
      ],
      "metadata": {
        "id": "Vm5-DIyA_DkM"
      },
      "execution_count": null,
      "outputs": []
    },
    {
      "cell_type": "markdown",
      "source": [
        "# Results"
      ],
      "metadata": {
        "id": "ikfkpVqRUEc8"
      }
    },
    {
      "cell_type": "markdown",
      "source": [
        "## Profile 1\n",
        "\n",
        "### Prompt for John Marty:\n",
        "Given the provided LinkedIn information for a person, create a proposal email on behalf of the company HappyAI, which specializes in implementing AI into business processes to increase profits, based on video.\n",
        "    Here's the information:\n",
        "    \"Full name: John Marty. \n",
        "    Email: johnrmarty@gmail.com.\n",
        "    Current occupation: Co-Founder at Freedom Fund Real Estate;\n",
        "    Profile's headline: Financial Freedom through Real Estate - LinkedIn Top Voice.\n",
        "    Person's profile summary: Most people go through life lost, disengaged, and unhappy at work and in their lives - I'm on a mission to solve that.\n",
        "\n",
        "I spent 10 years as the founder of Axxis Audio, an electronics company that grew to multi-million dollar sales, which I sold in 2012. At that time, I funneled my earnings into the creation of an Internet of Things company, but numerous factors lead to its demise after 2 hard fought years. \n",
        "\n",
        "At 31, I was penny-less, had a baby on the way, and had zero job prospects (despite applying to 150 companies). My desperate situation led me to take a job at Best Buy for $12 an hour while reinventing myself through the completion of an MBA at the University of Colorado, and a 6-month software development boot camp. \n",
        "\n",
        "After graduation, I landed at American Express as a Senior Product Manager and then got poached by Amazon in 2017 (because of my LinkedIn profile). My journey has led to a deep sense of perspective, humility, and purpose that I draw on to help others find clarity, meaning, and happiness in their careers and lives. \n",
        "\n",
        "Check out my website for details on my Mindset Reset Podcast, Public Speaking, Consulting, or my free 40 page LinkedIn guide\n",
        "\n",
        "http://www.johnraphaelmarty.com/\n",
        "\n",
        "FAQ's\n",
        "\n",
        "Q: Can you speak at my Company, University, event or podcast?\n",
        "A: I'd love to! I've shared my message on the future of employment, breaking into big tech, and my personal story of reinventing myself and discovering my sense of purpose (and how you can too!).\n",
        "\n",
        "☑️  YouTube Channel #1 (John Marty) : http://www.youtube.com/c/JohnMarty-uncommon\n",
        "☑️  YouTube Channel #2 (Tech Careers for non-engineers: https://www.youtube.com/channel/UC900gMMPLwRGGXSTW1gdZHA\n",
        "\n",
        "FUN FACTS:\n",
        "☑️ I am an Avid cyclist and runner, and I just started learning to skateboard a half-pipe.\n",
        "☑️ Into the Enneagram? - I'm a #3 (The Achiever)\n",
        "\n",
        "LETS CONNECT:\n",
        "☑️ Email: JohnRmarty@gmail.com (don't forget that \"R\"....The other guy gets my emails all the time).\n",
        "    Years of experience: 21.\n",
        "    Experiences: ['Co-Founder in Freedom Fund Real Estate', 'Founder in Mindset Reset Podcast', 'Founder in Project 1B', 'Featured Speaker in Product School', 'YouTube Content Creator - \"Tech Careers for Non-Engineers\" in YouTube', 'Youtube Content Creator - \"John Marty\" in YouTube', 'Sr. Manager of Product in Amazon', 'Senior Global Product Manager in American Express', 'Sr. Product Manager in Mile High Automation, Inc.', 'Founder/ Chief Operating Officer in EOS Controls', 'President/Founder in Axxis Audio'].\n",
        "    Education: ['Master of Business Administration (MBA) from University of Colorado Denver, described as None', 'None from Galvanize Inc, described as None', 'BA from Fort Lewis College, described as None', 'Japanese Language and Literature from Yamasa Institute Okazaki Japan, described as None', 'None from Inter American University of Puerto Rico, described as None', 'High School from Western Reserve Academy, described as None'].\"\n",
        "    Ignore null and blank contents and special characters in the provided information. If there's an email address in the provided information, put it before the letter in <> braces.\n",
        "    \n",
        "---------------------------------\n",
        "\n",
        "### The letter for John Marty:\n",
        "\n",
        "Subject: HappyAI - AI Integration for Increased Business Profitability\n",
        "\n",
        "Dear John,\n",
        "\n",
        "I hope this email finds you well. My name is [Your Name], and I am reaching out to you on behalf of HappyAI, a company specializing in implementing AI into business processes to increase profits.\n",
        "\n",
        "We were impressed by your profile on LinkedIn and intrigued by your extensive experience in founding and managing successful businesses, including Axxis Audio and Freedom Fund Real Estate. We understand that you are passionate about helping individuals find clarity, meaning, and happiness in their careers and lives, and we believe that our AI integration services can help businesses achieve these same goals.\n",
        "\n",
        "Our team at HappyAI has a proven track record of implementing AI solutions for businesses in a variety of industries. By integrating AI into your business processes, you can streamline operations, optimize workflows, and increase profitability. Our solutions are customized to meet the unique needs of each client, and we work closely with our clients to ensure successful implementation and adoption of our services.\n",
        "\n",
        "We would love to schedule a call with you to discuss how our AI integration services can help increase profitability and improve overall business performance at Freedom Fund Real Estate. We are confident that our services can help take your business to the next level and would be honored to have the opportunity to work with you.\n",
        "\n",
        "If you are interested, please let us know your availability, and we can schedule a call at your convenience. Alternatively, you can reach us at [Your Company's Phone Number] or [Your Company's Email Address].\n",
        "\n",
        "Thank you for your time, and we look forward to hearing back from you soon.\n",
        "\n",
        "Best regards,\n",
        "\n",
        "[Your Name]\n",
        "\n",
        "HappyAI\n",
        "\n",
        "---------------------------------\n",
        "\n"
      ],
      "metadata": {
        "id": "B3kCxjY1TECj"
      }
    },
    {
      "cell_type": "markdown",
      "source": [
        "## Profile 2\n",
        "###Prompt for Andrew Shymanski:\n",
        "Given the provided LinkedIn information for a person, create a proposal email on behalf of the company HappyAI, which specializes in implementing AI into business processes to increase profits, based on video.\n",
        "    Here's the information:\n",
        "    \"Full name: Andrew Shymanski. \n",
        "    Email: None.\n",
        "    Current occupation: Scrum Master / Front-End Developer at HDT;\n",
        "    Profile's headline: A happy member of a distributed agile team..\n",
        "    Person's profile summary: Helping customers to develop and optimize their software during the last 15 years. \n",
        "I assembled an agile distributed team of passionate professionals to develop solutions that can improve life.\n",
        "To save the Planet we must distribute resources and values more evenly. Blockchain and AI, in my opinion, are great tools to do it..\n",
        "    Years of experience: 14.\n",
        "    Experiences: ['Scrum Master / Front-End Developer in HDT', 'СDO in Cropfleet AgTech', 'CDO in 3Alica | A2 Consulting Group', 'Chief Delivery Oficer (CDO) in 3Alica | A2 Consulting Group', 'CEO in Zaochnik', 'Principal CEO in ERIZO', 'Priduct Owner in Obrabotka.by'].\n",
        "    Education: ['None from Belarusian State University of Informatics and Radioelectronics, described as None'].\"\n",
        "    Ignore null and blank contents and special characters in the provided information. If there's an email address in the provided information, put it before the letter in <> braces.\n",
        "        \n",
        "---------------------------------\n",
        "\n",
        "###The letter for Andrew Shymanski:\n",
        "Dear Andrew Shymanski,\n",
        "\n",
        "I hope this message finds you well. I am reaching out to you on behalf of HappyAI, a company that specializes in implementing AI into business processes to increase profits.\n",
        "\n",
        "Your passion for using technology to improve people's lives and your experience in developing software solutions caught our attention. We believe that we share a common goal of using technology to make a positive impact on the world.\n",
        "\n",
        "Our team at HappyAI has been working with various companies to help them integrate AI into their business processes, leading to increased profitability and efficiency. We believe that our expertise in AI can help optimize the software solutions that you and your team develop, leading to even better outcomes.\n",
        "\n",
        "We would be interested in discussing the possibility of working together to explore how we can help you achieve your goals. If this sounds like something that you would be interested in, please let us know how we can get in touch with you.\n",
        "\n",
        "Thank you for your time, and we look forward to hearing from you.\n",
        "\n",
        "Best regards,\n",
        "[Your Name]\n",
        "---------------------------------"
      ],
      "metadata": {
        "id": "uwvZLGtDTkJ8"
      }
    },
    {
      "cell_type": "markdown",
      "source": [
        "## Profile 3\n",
        "###Prompt for Lex Fridman:\n",
        "Given the provided LinkedIn information for a person, create a proposal email on behalf of the company HappyAI, which specializes in implementing AI into business processes to increase profits, based on video.\n",
        "    Here's the information:\n",
        "    \"Full name: Lex Fridman. \n",
        "    Email: lex.fridman@gmail.com.\n",
        "    Current occupation: Research Scientist at Massachusetts Institute of Technology (MIT);\n",
        "    Profile's headline: Research Scientist, MIT.\n",
        "    Person's profile summary: Research in AI, human-robot interaction, autonomous vehicles, and machine learning at MIT..\n",
        "    Years of experience: 9.\n",
        "    Experiences: ['Research Scientist in Massachusetts Institute of Technology (MIT)', 'Researcher in Google'].\n",
        "    Education: ['Doctor of Philosophy (Ph.D.) from Drexel University, described as None'].\"\n",
        "    Ignore null and blank contents and special characters in the provided information. If there's an email address in the provided information, put it before the letter in <> braces.\n",
        "    \n",
        "---------------------------------\n",
        "\n",
        "###The letter for Lex Fridman:\n",
        "Subject: Proposal for AI Implementation at MIT\n",
        "\n",
        "Dear Lex Fridman lex.fridman@gmail.com,\n",
        "\n",
        "I hope this email finds you well. My name is [Your Name], and I am writing on behalf of HappyAI, a company specializing in implementing AI into business processes to increase profits.\n",
        "\n",
        "I was impressed by your profile on LinkedIn, especially your research in AI, human-robot interaction, autonomous vehicles, and machine learning at MIT. Your experience as a Research Scientist at MIT and as a former researcher at Google makes you a valuable asset to your field.\n",
        "\n",
        "At HappyAI, we believe that AI can revolutionize the way businesses operate and help them achieve their goals more efficiently. Our team of experts has successfully implemented AI solutions for various businesses, and we would be thrilled to work with you and the MIT team to implement AI into your research and business processes.\n",
        "\n",
        "We understand the importance of customized solutions, and we would love to discuss how we can tailor our services to meet MIT's specific needs. Our goal is to help MIT streamline their operations, increase efficiency, and ultimately increase profitability.\n",
        "\n",
        "We look forward to the opportunity to discuss how HappyAI can contribute to the success of MIT. Please let us know if you are interested in learning more or have any questions.\n",
        "\n",
        "Thank you for your time, and we look forward to hearing from you soon.\n",
        "\n",
        "Best regards,\n",
        "\n",
        "[Your Name]\n",
        "HappyAI Team\n",
        "\n",
        "---------------------------------"
      ],
      "metadata": {
        "id": "kVeZD0g9UWWL"
      }
    },
    {
      "cell_type": "markdown",
      "source": [
        "## Profile 4\n",
        "###Prompt for Артем Еремкин:\n",
        "Given the provided LinkedIn information for a person, create a proposal email on behalf of the company HappyAI, which specializes in implementing AI into business processes to increase profits, based on video.\n",
        "    Here's the information:\n",
        "    \"Full name: Артем Еремкин. \n",
        "    Email: None.\n",
        "    Current occupation: None;\n",
        "    Profile's headline: Machine Learning Engineer.\n",
        "    Person's profile summary: Привет! Меня зовут Артем, мне 18 лет, и я Machine Learning Engineer. Я увлечен технологиями и желаю работать над полезными технологическими решениями. Хотя у меня нет коммерческого опыта, я провел огромное количество времени, изучая математику, компьютерные науки, программирование и машинное обучение.\n",
        "\n",
        "Мой интерес к области машинного обучения зародился тогда, когда я поступил на курс об ИИ в своем университете. Я начал изучать возможности искусственного интеллекта и быстро увлекся мощью и потенциалом этой технологии. Я понял, что хочу начать карьеру в этой области.\n",
        "\n",
        "С тех пор я работал над множеством проектов, в том числе над nerdless_bot, ИИ-чат-ботом для групп  в Telegram: https://github.com/RakePants/nerdless.\n",
        "\n",
        "Хотя я еще только начинаю свою карьеру, мне не терпится увидеть, куда приведет меня мое увлечение машинным обучением. Я уверен, что эта технология может изменить мир, и я хотел бы внести свой вклад в то, чтобы это произошло..\n",
        "    Years of experience: 9.\n",
        "    Experiences: [].\n",
        "    Education: ['Бакалавр from Пермский Государственный Университет (ПГУ), described as None', 'Слушатель from Сетевой ИТ-Университет, described as Курс \"Искусственный интеллект на PyTorch\"\\n\\nРеализовал, обучил и протестировал модели классификации, анализа изображений и управления агентами с помощью PyTorch. \\nРаботал с данными, используя Pandas и NumPy.\\nИзучил теорию нейронных сетей, обучающей и тестовой выборок, проводил эксперименты с параметрами модели.\\nИспользовал предобученные модели, загружал созданные модели в разработанную для курса контест-систему с помощью Python-скриптов.\\nСоздал модель агента с использованием обучения с подкреплением и принял участие в контесте, по итогам которого вошел в топ-5 выпускников курса.\\n            \\n\\n    \\n    \\n\\n    \\n        Свернуть', 'Слушатель from Perm State University (PSU), described as Курс \"Вычислительная физика с Python\"\\n\\nОсвоил моделирование различных физических процессов с помощью NumPy, SciPy и Pandas.\\nИзучил Matplotlib и с его помощью визуализировал полученные модели.'].\"\n",
        "    Ignore null and blank contents and special characters in the provided information. If there's an email address in the provided information, put it before the letter in <> braces.\n",
        "    \n",
        "---------------------------------\n",
        "\n",
        "###The letter for Артем Еремкин:\n",
        "Dear Artem Eremkin,\n",
        "\n",
        "We at HappyAI hope this email finds you well. We came across your LinkedIn profile and were impressed by your passion for machine learning and your dedication to self-learning. It's amazing to see someone as young as you with such a strong drive to learn and succeed in the field.\n",
        "\n",
        "We specialize in implementing AI into business processes to increase profits, and we believe that your skills and passion would make a great addition to our team. We are looking for someone who can work with us to develop and implement AI solutions that can drive innovation and deliver real value to our clients. With your experience in machine learning and your impressive educational background, we believe you would be an excellent fit for our team.\n",
        "\n",
        "We understand that you may not have commercial experience yet, but we would like to invite you to consider joining our team as an intern or junior machine learning engineer. We offer a supportive and dynamic work environment, with opportunities for growth and learning under the guidance of experienced professionals.\n",
        "\n",
        "If you're interested, please let us know by replying to this email or by sending us your resume. We would be happy to schedule a call to discuss this opportunity further.\n",
        "\n",
        "Thank you for your time, and we look forward to hearing from you soon.\n",
        "\n",
        "Best regards,\n",
        "\n",
        "[Your Name]\n",
        "HappyAI Team\n",
        "---------------------------------"
      ],
      "metadata": {
        "id": "WuDWYyjtUsRl"
      }
    },
    {
      "cell_type": "markdown",
      "source": [
        "## Profile 5\n",
        "##Prompt for Andrej Karpathy:\n",
        "Given the provided LinkedIn information for a person, create a proposal email on behalf of the company HappyAI, which specializes in implementing AI into business processes to increase profits, based on video.\n",
        "    Here's the information:\n",
        "    \"Full name: Andrej Karpathy. \n",
        "    Email: andrej.karpathy@gmail.com.\n",
        "    Current occupation: Sr Director of AI at Tesla;\n",
        "    Profile's headline: (Former) Director of AI at Tesla, OpenAI, PhD @ Stanford.\n",
        "    Person's profile summary: https://karpathy.ai/.\n",
        "    Years of experience: 12.\n",
        "    Experiences: ['Sr Director of AI in Tesla', 'Research Scientist in OpenAI', 'Research Intern in Google DeepMind', 'Google Research Summer Intern in Google', 'Google Research Summer Intern in Google', 'PhD student in Stanford University'].\n",
        "    Education: ['PhD from Stanford University, described as None', 'MSc from The University of British Columbia, described as I worked on learning controllers for physically-simulated figures. Think: agile robotics but in a simulation. Application include graphics and robotics.', 'BSc from University of Toronto, described as Double major in Physics and Computer Science, minor in Mathematics.'].\"\n",
        "    Ignore null and blank contents and special characters in the provided information. If there's an email address in the provided information, put it before the letter in <> braces.\n",
        "    \n",
        "---------------------------------\n",
        "\n",
        "##The letter for Andrej Karpathy:\n",
        "Subject: HappyAI proposal for AI implementation at Tesla\n",
        "\n",
        "Dear Andrej Karpathy,\n",
        "\n",
        "I hope this email finds you well. I am writing on behalf of HappyAI, a company that specializes in implementing artificial intelligence (AI) into business processes to increase profits. As the (former) Director of AI at Tesla and with 12 years of experience in the industry, we believe that you may be interested in our services.\n",
        "\n",
        "We have reviewed your profile and are impressed by your experience as a Sr Director of AI at Tesla, Research Scientist at OpenAI, and Research Intern at Google DeepMind. We also noticed that you have a PhD from Stanford University and have worked with Google as a research intern.\n",
        "\n",
        "At HappyAI, we understand the importance of AI in driving growth and innovation in businesses. We offer AI implementation services that are tailored to each client's unique needs, helping them achieve greater efficiency and profitability. We would be honored to work with Tesla, one of the world's leading companies in the field of electric cars and sustainable energy.\n",
        "\n",
        "Our team of experts has extensive experience in AI implementation and can help you identify areas where AI can enhance your business processes. We use cutting-edge technologies to develop customized AI solutions that are designed to meet your specific needs.\n",
        "\n",
        "If you are interested in learning more about our services, please do not hesitate to contact us. We would be more than happy to arrange a video call with you to discuss how we can help you achieve your business goals through AI implementation.\n",
        "\n",
        "Thank you for your time, and we look forward to hearing from you soon.\n",
        "\n",
        "Best regards,\n",
        "\n",
        "[Your Name]\n",
        "HappyAI\n",
        "\n",
        "---------------------------------"
      ],
      "metadata": {
        "id": "Tn5Ed9ExVUuL"
      }
    },
    {
      "cell_type": "markdown",
      "source": [
        "## Conclusion\n",
        "Depending on the gathered information for each profile, ChatGPT-3.5 made different proposals.  \n",
        "For example, for profiles 1, 3 and 5 they were business proposals, while for proposals 2 and 4 the letters presented a job offer.  \n",
        "Thus, scraping LinkedIn information and generating a letter with a large language model is a strong, context-based solution to creating business proposals."
      ],
      "metadata": {
        "id": "f_o89JhsVvYv"
      }
    }
  ]
}